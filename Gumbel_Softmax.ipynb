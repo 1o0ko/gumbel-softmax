{
  "nbformat": 4,
  "nbformat_minor": 0,
  "metadata": {
    "colab": {
      "name": "Gumbel Softmax",
      "version": "0.3.2",
      "provenance": [],
      "collapsed_sections": [],
      "include_colab_link": true
    },
    "kernelspec": {
      "name": "python3",
      "display_name": "Python 3"
    },
    "accelerator": "GPU"
  },
  "cells": [
    {
      "cell_type": "markdown",
      "metadata": {
        "id": "view-in-github",
        "colab_type": "text"
      },
      "source": [
        "<a href=\"https://colab.research.google.com/github/1o0ko/gumbel-softmax/blob/master/Gumbel_Softmax.ipynb\" target=\"_parent\"><img src=\"https://colab.research.google.com/assets/colab-badge.svg\" alt=\"Open In Colab\"/></a>"
      ]
    },
    {
      "metadata": {
        "id": "rP6NiDdRZWRw",
        "colab_type": "text"
      },
      "cell_type": "markdown",
      "source": [
        "# Gumbel Distribution"
      ]
    },
    {
      "metadata": {
        "id": "mKPaCeMCZWRz",
        "colab_type": "code",
        "colab": {}
      },
      "cell_type": "code",
      "source": [
        "%matplotlib inline\n",
        "import numpy as np\n",
        "import matplotlib.pyplot as plt"
      ],
      "execution_count": 0,
      "outputs": []
    },
    {
      "metadata": {
        "id": "uMrajA-AZWR3",
        "colab_type": "code",
        "colab": {}
      },
      "cell_type": "code",
      "source": [
        "N = 10**6\n",
        "bins = 10"
      ],
      "execution_count": 0,
      "outputs": []
    },
    {
      "metadata": {
        "id": "iiZqAN-mZWR5",
        "colab_type": "code",
        "colab": {}
      },
      "cell_type": "code",
      "source": [
        "u = np.random.random((N))"
      ],
      "execution_count": 0,
      "outputs": []
    },
    {
      "metadata": {
        "id": "UgNzu0c6ZWR8",
        "colab_type": "code",
        "outputId": "babd6e43-b843-44b7-e9f7-0522a2aece41",
        "colab": {
          "base_uri": "https://localhost:8080/",
          "height": 297
        }
      },
      "cell_type": "code",
      "source": [
        "plt.hist(u, bins=bins);\n",
        "plt.title(\"Uniform distribution\")"
      ],
      "execution_count": 4,
      "outputs": [
        {
          "output_type": "execute_result",
          "data": {
            "text/plain": [
              "Text(0.5,1,'Uniform distribution')"
            ]
          },
          "metadata": {
            "tags": []
          },
          "execution_count": 4
        },
        {
          "output_type": "display_data",
          "data": {
            "image/png": "[encoded data removed]",
            "text/plain": [
              "<matplotlib.figure.Figure at 0x7f2a592ec278>"
            ]
          },
          "metadata": {
            "tags": []
          }
        }
      ]
    },
    {
      "metadata": {
        "id": "7VWmLpf5ZWSB",
        "colab_type": "code",
        "colab": {}
      },
      "cell_type": "code",
      "source": [
        "g = -np.log(-np.log(u))"
      ],
      "execution_count": 0,
      "outputs": []
    },
    {
      "metadata": {
        "id": "DccGBwaXZWSE",
        "colab_type": "code",
        "outputId": "bdcf7f9d-58ae-4a7e-f06f-fb4da4f476b8",
        "colab": {
          "base_uri": "https://localhost:8080/",
          "height": 297
        }
      },
      "cell_type": "code",
      "source": [
        "plt.hist(g, bins=bins);\n",
        "plt.title(\"Gumbel distribution\")"
      ],
      "execution_count": 6,
      "outputs": [
        {
          "output_type": "execute_result",
          "data": {
            "text/plain": [
              "Text(0.5,1,'Gumbel distribution')"
            ]
          },
          "metadata": {
            "tags": []
          },
          "execution_count": 6
        },
        {
          "output_type": "display_data",
          "data": {
            "image/png": "[encoded data removed]",
            "text/plain": [
              "<matplotlib.figure.Figure at 0x7f2a3e478da0>"
            ]
          },
          "metadata": {
            "tags": []
          }
        }
      ]
    },
    {
      "metadata": {
        "id": "YECJp3NRZWSI",
        "colab_type": "text"
      },
      "cell_type": "markdown",
      "source": [
        "# Discrete Sampling\n",
        "\n",
        "Goal: Sampling from a discrete distribution parametrized by $K$ unnormalized log-probabilities $\\alpha_k$:\n",
        "\n",
        "$$\n",
        "    \\pi_k =\\frac{1}{z} \\exp(\\alpha_k),  \\quad \\textrm{where} \\, z=\\sum_j^K \\exp(x_j)\n",
        "$$"
      ]
    },
    {
      "metadata": {
        "id": "zsYlh1Y-ZWSI",
        "colab_type": "text"
      },
      "cell_type": "markdown",
      "source": [
        "# The Gumbel Distribution tidck\n",
        "\n",
        "Let $X$ be a discrete random variable with $P(X=k)\\propto \\alpha_k$ random variable and let $\\{G_k\\}_{k\\leq K}$\n",
        "be an i.i.d sequence of standard Gumbel random variables. \n",
        "\n",
        "Then:\n",
        "$$\n",
        "    X = \\arg\\max_k(\\log \\alpha_k + G_k)\n",
        "$$\n",
        "\n",
        "The algorithm\n",
        "* draw Gumbel noise by transforming uniform samples\n",
        "* add the noise to the $\\log \\alpha_k$\n",
        "* take value k that produces the maximum"
      ]
    },
    {
      "metadata": {
        "id": "nZGj7NfeZWSK",
        "colab_type": "code",
        "colab": {}
      },
      "cell_type": "code",
      "source": [
        "def gumbel(shape, eps=1e-10):\n",
        "    \"\"\" Sample from Gumbel(0, 1)\"\"\"\n",
        "    u =  np.random.random(shape)\n",
        "    g = -np.log(-np.log(u + eps) + eps)\n",
        "    return g\n",
        "    \n",
        "def gumbel_max_sample(x, is_prob=False):\n",
        "    \"\"\" Draw a sample from P(X=k) prop x_k \"\"\"\n",
        "    if is_prob:\n",
        "        x = np.log(x)\n",
        "        \n",
        "    g = gumbel(shape=x.shape)\n",
        "    return (g + x).argmax(axis=0)"
      ],
      "execution_count": 0,
      "outputs": []
    },
    {
      "metadata": {
        "id": "yADc4BQCZWSN",
        "colab_type": "text"
      },
      "cell_type": "markdown",
      "source": [
        "# Relaxing the discretness\n",
        "\n",
        "The main idea\n",
        "\n",
        "* Any discrete random variable can be always expressed as one hot-vector\n",
        "* the convex hull of the set of one-hot vector is the probability simplex:\n",
        "$$\n",
        "\\Delta^{K-1} = \\big\\{ x \\in R^K_+, \\, \\sum_{k=1}^K x_k = 1 \\big\\}\n",
        "$$\n",
        "\n",
        "Therefore, a natural way to extend (or ‘relax’) a discrete random variables is by allowing it to take values in the *probability simplex*. We can can consider a soft-max map, to extend the values of a discrete random variable\n",
        "\n",
        "$$\n",
        "    f_\\tau (x)_k = \\frac{\\exp(x_k / \\tau)}{\\sum_{k=1}^K\\exp(x_k / \\tau)}\n",
        "$$"
      ]
    },
    {
      "metadata": {
        "id": "KHrjePUjZWSN",
        "colab_type": "code",
        "colab": {}
      },
      "cell_type": "code",
      "source": [
        "def softmax(X, temperature = 1.0, axis = None):\n",
        "    \"\"\"\n",
        "    Compute the softmax of each element along an axis of X.\n",
        "\n",
        "    Parameters\n",
        "    ----------\n",
        "    X: ND-Array. Probably should be floats. \n",
        "    temperature (optional): float parameter, used as a multiplier\n",
        "        prior to exponentiation. Default = 1.0\n",
        "    axis (optional): axis to compute values along. Default is the \n",
        "        first non-singleton axis.\n",
        "\n",
        "    Returns an array the same size as X. The result will sum to 1\n",
        "    along the specified axis.\n",
        "    \"\"\"\n",
        "    y = np.atleast_2d(X)\n",
        "\n",
        "    if axis is None:\n",
        "        axis = next(j[0] for j in enumerate(y.shape) if j[1] > 1)\n",
        "\n",
        "    y = y / float(temperature)\n",
        "    y = y - np.expand_dims(np.max(y, axis = axis), axis)\n",
        "    y = np.exp(y)\n",
        "\n",
        "    # take the sum along the specified axis\n",
        "    p = y / np.expand_dims(np.sum(y, axis = axis), axis)\n",
        "\n",
        "    if len(X.shape) == 1: \n",
        "        p = p.flatten()\n",
        "\n",
        "    return p"
      ],
      "execution_count": 0,
      "outputs": []
    },
    {
      "metadata": {
        "id": "5Ha-AxKJZWSR",
        "colab_type": "code",
        "colab": {}
      },
      "cell_type": "code",
      "source": [
        "def gumbel_softmax_sample(logits, temperature=1): \n",
        "    \"\"\" Draw a sample from the Gumbel-Softmax distribution\"\"\"\n",
        "    y = logits + gumbel(np.shape(logits))\n",
        "    return softmax(y, temperature=temperature)"
      ],
      "execution_count": 0,
      "outputs": []
    },
    {
      "metadata": {
        "id": "J4GncsEIZWSU",
        "colab_type": "text"
      },
      "cell_type": "markdown",
      "source": [
        "# An example sampling"
      ]
    },
    {
      "metadata": {
        "id": "P27tAytVZWSV",
        "colab_type": "code",
        "outputId": "b2f3e821-82f2-491e-8971-7d656940d0dc",
        "colab": {
          "base_uri": "https://localhost:8080/",
          "height": 280
        }
      },
      "cell_type": "code",
      "source": [
        "logits = [1, 4, 5, 1, 2]\n",
        "classes = range(1, len(logits) + 1)\n",
        "sample = gumbel_softmax_sample(logits, temperature=1)\n",
        "\n",
        "plt.title(\"Sample from Gumbel-Softmax distribution\")\n",
        "plt.bar(classes, sample);"
      ],
      "execution_count": 10,
      "outputs": [
        {
          "output_type": "display_data",
          "data": {
            "image/png": "[encoded data removed]",
            "text/plain": [
              "<matplotlib.figure.Figure at 0x7f2a3bb9a080>"
            ]
          },
          "metadata": {
            "tags": []
          }
        }
      ]
    },
    {
      "metadata": {
        "id": "LtNsXGRhZysb",
        "colab_type": "text"
      },
      "cell_type": "markdown",
      "source": [
        "# Gumbel-Softmax in PyTorch"
      ]
    },
    {
      "metadata": {
        "id": "tQPOo53IaTMe",
        "colab_type": "code",
        "colab": {
          "base_uri": "https://localhost:8080/",
          "height": 139
        },
        "outputId": "8a02ea25-b11c-4e51-e2ec-a9e7a474da41"
      },
      "cell_type": "code",
      "source": [
        "! pip3 install torch torchvision\n",
        "! pip3 install pillow"
      ],
      "execution_count": 11,
      "outputs": [
        {
          "output_type": "stream",
          "text": [
            "Requirement already satisfied: torch in /usr/local/lib/python3.6/dist-packages (0.4.1)\n",
            "Requirement already satisfied: torchvision in /usr/local/lib/python3.6/dist-packages (0.2.1)\n",
            "Requirement already satisfied: pillow>=4.1.1 in /usr/local/lib/python3.6/dist-packages (from torchvision) (5.3.0)\n",
            "Requirement already satisfied: numpy in /usr/local/lib/python3.6/dist-packages (from torchvision) (1.14.6)\n",
            "Requirement already satisfied: six in /usr/local/lib/python3.6/dist-packages (from torchvision) (1.11.0)\n",
            "Requirement already satisfied: pillow in /usr/local/lib/python3.6/dist-packages (5.3.0)\n"
          ],
          "name": "stdout"
        }
      ]
    },
    {
      "metadata": {
        "id": "miRy5qscZ11X",
        "colab_type": "code",
        "colab": {}
      },
      "cell_type": "code",
      "source": [
        "import math\n",
        "\n",
        "import torch\n",
        "import torch.nn as nn\n",
        "import torch.nn.functional as F\n",
        "from torch.autograd import Variable\n",
        "\n",
        "def sample_gumbel(shape, eps=1e-20, device='cuda'):\n",
        "    ''' Sample from Gumbel(0, 1) ''' \n",
        "    U = torch.rand(shape).to(device)    \n",
        "    return -torch.log(-torch.log(U + eps) + eps)\n",
        "\n",
        "def gumbel_softmax_sample(logits, temperature):\n",
        "    ''' Draw a sample from the Gumbel-Softmax distribution ''' \n",
        "    y = logits + sample_gumbel(logits.size())\n",
        "    return F.softmax(y / temperature, dim=-1)\n",
        "\n",
        "def gumbel_softmax(logits, temperature, hard=False):\n",
        "    '''Sample from the Gumbel-Softmax distribution and optionally discretize.\n",
        "    \n",
        "    Args:\n",
        "      logits: [batch_size, n_class] unnormalized log-probs\n",
        "      temperature: non-negative scalar\n",
        "      hard: if True, take argmax, but differentiate w.r.t. soft sample y\n",
        "    \n",
        "    Returns:\n",
        "      [batch_size, n_class] sample from the Gumbel-Softmax distribution.\n",
        "      If hard=True, then the returned sample will be one-hot, otherwise it will\n",
        "      be a probabilitiy distribution that sums to 1 across classes\n",
        "    '''\n",
        "    y = gumbel_softmax_sample(logits, temperature)\n",
        "    if hard:\n",
        "      shape = y.size()\n",
        "      _, ind = y.max(dim=-1)\n",
        "      y_hard = torch.zeros_like(y).view(-1, shape[-1])\n",
        "      y_hard.scatter_(1, ind.view(-1, 1), 1)\n",
        "      y_hard = y_hard.view(*shape)\n",
        "      y =  (y_hard - y).detach() + y      \n",
        "    \n",
        "    return y\n"
      ],
      "execution_count": 0,
      "outputs": []
    },
    {
      "metadata": {
        "id": "QbGgLoVXbjiv",
        "colab_type": "code",
        "colab": {}
      },
      "cell_type": "code",
      "source": [
        "logits = torch.Tensor([1, 1.3]).cuda()\n",
        "classes = range(1, len(logits) + 1)\n",
        "sample = gumbel_softmax(logits, temperature=1, hard=False)"
      ],
      "execution_count": 0,
      "outputs": []
    },
    {
      "metadata": {
        "id": "aN169tF1dyb9",
        "colab_type": "code",
        "colab": {
          "base_uri": "https://localhost:8080/",
          "height": 280
        },
        "outputId": "d01c86f6-1207-4166-e7de-7f238358241e"
      },
      "cell_type": "code",
      "source": [
        "plt.title(\"Sample from Gumbel-Softmax distribution\")\n",
        "plt.bar(classes, sample);"
      ],
      "execution_count": 107,
      "outputs": [
        {
          "output_type": "display_data",
          "data": {
            "image/png": "[encoded data removed]",
            "text/plain": [
              "<matplotlib.figure.Figure at 0x7f2a071cc780>"
            ]
          },
          "metadata": {
            "tags": []
          }
        }
      ]
    },
    {
      "metadata": {
        "id": "vYa75gQp8YyC",
        "colab_type": "text"
      },
      "cell_type": "markdown",
      "source": [
        "## Data"
      ]
    },
    {
      "metadata": {
        "id": "fqRm-9X58nPK",
        "colab_type": "code",
        "colab": {}
      },
      "cell_type": "code",
      "source": [
        "import os\n",
        "\n",
        "directory = '/content/results/'\n",
        "if not os.path.exists(directory):\n",
        "  os.makedirs(directory)"
      ],
      "execution_count": 0,
      "outputs": []
    },
    {
      "metadata": {
        "id": "Zr6Tmz8IKWm-",
        "colab_type": "code",
        "colab": {}
      },
      "cell_type": "code",
      "source": [
        "import torch.utils.data\n",
        "\n",
        "from torch import nn, optim\n",
        "from torchvision import datasets, transforms\n",
        "from torchvision.utils import save_image"
      ],
      "execution_count": 0,
      "outputs": []
    },
    {
      "metadata": {
        "id": "YoD8Eq4g8Zqx",
        "colab_type": "code",
        "colab": {}
      },
      "cell_type": "code",
      "source": [
        "device = torch.device(\"cuda\")\n",
        "\n",
        "train_loader = torch.utils.data.DataLoader(\n",
        "    datasets.MNIST('data', train=True, download=True, transform=transforms.ToTensor()),\n",
        "    batch_size=128, shuffle=True)\n",
        "\n",
        "test_loader = torch.utils.data.DataLoader(\n",
        "    datasets.MNIST('data', train=False, transform=transforms.ToTensor()),\n",
        "    batch_size=128, shuffle=True)"
      ],
      "execution_count": 0,
      "outputs": []
    },
    {
      "metadata": {
        "id": "TGpRJ2Xi8Z_u",
        "colab_type": "text"
      },
      "cell_type": "markdown",
      "source": [
        "## Binary-VAE"
      ]
    },
    {
      "metadata": {
        "id": "I8vrJpJL9dc_",
        "colab_type": "code",
        "colab": {}
      },
      "cell_type": "code",
      "source": [
        "ANNEAL_RATE = 0.00003\n",
        "\n",
        "\n",
        "class BinaryVAE(nn.Module):\n",
        "    def __init__(self, latent_dim):\n",
        "        super(BinaryVAE, self).__init__()\n",
        "        \n",
        "        # meta info\n",
        "        self.latent_dim = latent_dim\n",
        "        \n",
        "        self.encoder = nn.Sequential(\n",
        "          nn.Linear(784, 512),\n",
        "          nn.ReLU(True),\n",
        "          nn.Linear(512, 256),\n",
        "          nn.ReLU(True),\n",
        "          nn.Linear(256, latent_dim * 2)\n",
        "        )\n",
        "\n",
        "        self.decoder = nn.Sequential(\n",
        "            nn.Linear(latent_dim * 2, 256),\n",
        "            nn.ReLU(True),\n",
        "            nn.Linear(256, 512),\n",
        "            nn.ReLU(True),\n",
        "            nn.Linear(512, 784),\n",
        "            nn.Sigmoid()\n",
        "        )\n",
        "      \n",
        "\n",
        "    def get_codes(self, x, temp):\n",
        "        logits = self.encoder(x.view(-1, 784))\n",
        "        logits = logits.view(-1, self.latent_dim, 2)\n",
        "        \n",
        "        codes = gumbel_softmax(logits, temp, hard=True)\n",
        "        codes = codes[:,:, 0] # take the first column of the binary variable\n",
        "        \n",
        "        return codes\n",
        "      \n",
        "    def forward(self, x, temp, hard):\n",
        " \n",
        "        q = self.encoder(x.view(-1, 784))\n",
        "        q_y = q.view(-1, self.latent_dim, 2)\n",
        "        \n",
        "\n",
        "        z = gumbel_softmax(q_y, temp, hard)\n",
        "        z = z.view(-1, self.latent_dim * 2)\n",
        "        \n",
        "        x_recon = self.decoder(z)\n",
        "        \n",
        "        q_y = F.softmax(q_y, dim=-1).reshape(*q.size())\n",
        "\n",
        "        return x_recon, q_y\n",
        "\n",
        "\n",
        "\n",
        "def loss_function(recon_x, x, q_y):\n",
        "    BCE = F.binary_cross_entropy(recon_x, x.view(-1, 784), size_average=False) / x.shape[0]\n",
        "\n",
        "    log_ratio = torch.log(q_y * 2 + 1e-20)\n",
        "    KLD = torch.sum(q_y * log_ratio, dim=-1).mean()\n",
        "\n",
        "    return BCE + KLD\n",
        "\n",
        "\n",
        "  \n",
        "def train(epoch, model, train_loader, optimizer, temp, cuda=True, hard=False):\n",
        "    model.train()\n",
        "    train_loss = 0\n",
        "    for batch_idx, (data, _) in enumerate(train_loader):\n",
        "        if cuda:\n",
        "            data = data.cuda()\n",
        "        optimizer.zero_grad()\n",
        "        \n",
        "        recon_batch, q_y = model(data, temp, hard)\n",
        "        \n",
        "        loss = loss_function(recon_batch, data, q_y)\n",
        "        loss.backward()\n",
        "        \n",
        "        train_loss += loss.item() * len(data)\n",
        "        optimizer.step()\n",
        "        \n",
        "        if batch_idx % 100 == 1:\n",
        "            temp = np.maximum(temp * np.exp(-ANNEAL_RATE * batch_idx), temp_min)\n",
        "\n",
        "        if batch_idx % 100 == 0:\n",
        "            print('Train Epoch: {} [{}/{} ({:.0f}%)]\\tLoss: {:.6f}'.format(\n",
        "                epoch, batch_idx * len(data), len(train_loader.dataset),\n",
        "                       100. * batch_idx / len(train_loader),\n",
        "                       loss.item()))\n",
        "\n",
        "    print('====> Epoch: {} Average loss: {:.4f}'.format(\n",
        "        epoch, train_loss / len(train_loader.dataset)))\n",
        "\n",
        "\n",
        "\n",
        "def test(epoch, model, test_loader, temp, cuda=True, hard=False):\n",
        "    model.eval()\n",
        "    test_loss = 0\n",
        "  \n",
        "    for i, (data, _) in enumerate(test_loader):\n",
        "        if cuda:\n",
        "          data = data.cuda()\n",
        "  \n",
        "        recon_batch, qy = model(data, temp, hard)\n",
        "        test_loss += loss_function(recon_batch, data, qy).item() * len(data)\n",
        "        \n",
        "        if i % 100 == 1:\n",
        "            temp = np.maximum(temp * np.exp(-ANNEAL_RATE * i), temp_min)\n",
        "        \n",
        "        if i == 0:\n",
        "            n = min(data.size(0), 8)\n",
        "            comparison = torch.cat([data[:n],\n",
        "                                    recon_batch.view(128, 1, 28, 28)[:n]])\n",
        "            save_image(comparison.data.cpu(),\n",
        "                       f\"/content/results/reconstruction_{epoch:03d}.png\", nrow=n)\n",
        "\n",
        "    test_loss /= len(test_loader.dataset)\n",
        "    print('====> Test set loss: {:.4f}'.format(test_loss))"
      ],
      "execution_count": 0,
      "outputs": []
    },
    {
      "metadata": {
        "id": "8IeQZxcj9hvw",
        "colab_type": "code",
        "colab": {
          "base_uri": "https://localhost:8080/",
          "height": 306
        },
        "outputId": "9f1a9822-97a2-45af-a41a-328d779868e9"
      },
      "cell_type": "code",
      "source": [
        "epochs = 50\n",
        "prec = math.ceil(math.log10(epochs / 100))\n",
        "\n",
        "\n",
        "latent_dim = 32\n",
        "temp = 1.0\n",
        "temp_min = 0.5\n",
        "\n",
        "\n",
        "model = BinaryVAE(latent_dim)\n",
        "model.to(device)"
      ],
      "execution_count": 167,
      "outputs": [
        {
          "output_type": "execute_result",
          "data": {
            "text/plain": [
              "BinaryVAE(\n",
              "  (encoder): Sequential(\n",
              "    (0): Linear(in_features=784, out_features=512, bias=True)\n",
              "    (1): ReLU(inplace)\n",
              "    (2): Linear(in_features=512, out_features=256, bias=True)\n",
              "    (3): ReLU(inplace)\n",
              "    (4): Linear(in_features=256, out_features=64, bias=True)\n",
              "  )\n",
              "  (decoder): Sequential(\n",
              "    (0): Linear(in_features=64, out_features=256, bias=True)\n",
              "    (1): ReLU(inplace)\n",
              "    (2): Linear(in_features=256, out_features=512, bias=True)\n",
              "    (3): ReLU(inplace)\n",
              "    (4): Linear(in_features=512, out_features=784, bias=True)\n",
              "    (5): Sigmoid()\n",
              "  )\n",
              ")"
            ]
          },
          "metadata": {
            "tags": []
          },
          "execution_count": 167
        }
      ]
    },
    {
      "metadata": {
        "id": "uucreost9qkB",
        "colab_type": "code",
        "colab": {
          "base_uri": "https://localhost:8080/",
          "height": 6021
        },
        "outputId": "69a8564f-65e0-4298-adaa-1e8bef9e081e"
      },
      "cell_type": "code",
      "source": [
        "optimizer = optim.Adam(model.parameters(), lr=1e-3)\n",
        "\n",
        "for epoch in range(1, epochs + 1):\n",
        "    train(epoch, model, train_loader, optimizer, temp, True)\n",
        "    test(epoch, model, test_loader, temp, True)\n",
        "\n",
        "    M = 64 * latent_dim\n",
        "    np_y = np.zeros((M, 2), dtype=np.float32)\n",
        "    np_y[range(M), np.random.choice(2, M)] = 1\n",
        "    np_y = np.reshape(np_y, [M // latent_dim, latent_dim, 2])\n",
        "\n",
        "    sample = torch.from_numpy(np_y).view(M // latent_dim, latent_dim * 2)\n",
        "    sample = sample.to(device)\n",
        "    sample = model.decoder(sample).cpu()\n",
        "    \n",
        "    save_image(\n",
        "        sample.data.view(M // latent_dim, 1, 28, 28),\n",
        "        f\"/content/results/sample_{epoch:03d}.png\")"
      ],
      "execution_count": 168,
      "outputs": [
        {
          "output_type": "stream",
          "text": [
            "/usr/local/lib/python3.6/dist-packages/torch/nn/functional.py:52: UserWarning: size_average and reduce args will be deprecated, please use reduction='sum' instead.\n",
            "  warnings.warn(warning.format(ret))\n"
          ],
          "name": "stderr"
        },
        {
          "output_type": "stream",
          "text": [
            "Train Epoch: 1 [0/60000 (0%)]\tLoss: 542.468079\n",
            "Train Epoch: 1 [12800/60000 (21%)]\tLoss: 208.040283\n",
            "Train Epoch: 1 [25600/60000 (43%)]\tLoss: 186.274628\n",
            "Train Epoch: 1 [38400/60000 (64%)]\tLoss: 184.921844\n",
            "Train Epoch: 1 [51200/60000 (85%)]\tLoss: 171.275177\n",
            "====> Epoch: 1 Average loss: 195.6977\n",
            "====> Test set loss: 166.4500\n",
            "Train Epoch: 2 [0/60000 (0%)]\tLoss: 159.574493\n",
            "Train Epoch: 2 [12800/60000 (21%)]\tLoss: 163.180267\n",
            "Train Epoch: 2 [25600/60000 (43%)]\tLoss: 149.806229\n",
            "Train Epoch: 2 [38400/60000 (64%)]\tLoss: 148.963547\n",
            "Train Epoch: 2 [51200/60000 (85%)]\tLoss: 141.256119\n",
            "====> Epoch: 2 Average loss: 150.8755\n",
            "====> Test set loss: 140.3907\n",
            "Train Epoch: 3 [0/60000 (0%)]\tLoss: 138.322128\n",
            "Train Epoch: 3 [12800/60000 (21%)]\tLoss: 138.468735\n",
            "Train Epoch: 3 [25600/60000 (43%)]\tLoss: 137.284088\n",
            "Train Epoch: 3 [38400/60000 (64%)]\tLoss: 140.577408\n",
            "Train Epoch: 3 [51200/60000 (85%)]\tLoss: 132.205795\n",
            "====> Epoch: 3 Average loss: 136.1242\n",
            "====> Test set loss: 130.6723\n",
            "Train Epoch: 4 [0/60000 (0%)]\tLoss: 132.398727\n",
            "Train Epoch: 4 [12800/60000 (21%)]\tLoss: 136.526489\n",
            "Train Epoch: 4 [25600/60000 (43%)]\tLoss: 125.085220\n",
            "Train Epoch: 4 [38400/60000 (64%)]\tLoss: 122.312843\n",
            "Train Epoch: 4 [51200/60000 (85%)]\tLoss: 122.278862\n",
            "====> Epoch: 4 Average loss: 128.0379\n",
            "====> Test set loss: 124.1862\n",
            "Train Epoch: 5 [0/60000 (0%)]\tLoss: 124.871269\n",
            "Train Epoch: 5 [12800/60000 (21%)]\tLoss: 126.411171\n",
            "Train Epoch: 5 [25600/60000 (43%)]\tLoss: 118.996750\n",
            "Train Epoch: 5 [38400/60000 (64%)]\tLoss: 118.287003\n",
            "Train Epoch: 5 [51200/60000 (85%)]\tLoss: 125.821579\n",
            "====> Epoch: 5 Average loss: 123.0555\n",
            "====> Test set loss: 119.9232\n",
            "Train Epoch: 6 [0/60000 (0%)]\tLoss: 117.264946\n",
            "Train Epoch: 6 [12800/60000 (21%)]\tLoss: 121.852135\n",
            "Train Epoch: 6 [25600/60000 (43%)]\tLoss: 123.996803\n",
            "Train Epoch: 6 [38400/60000 (64%)]\tLoss: 119.364937\n",
            "Train Epoch: 6 [51200/60000 (85%)]\tLoss: 121.432053\n",
            "====> Epoch: 6 Average loss: 119.0253\n",
            "====> Test set loss: 116.6455\n",
            "Train Epoch: 7 [0/60000 (0%)]\tLoss: 119.339882\n",
            "Train Epoch: 7 [12800/60000 (21%)]\tLoss: 119.244461\n",
            "Train Epoch: 7 [25600/60000 (43%)]\tLoss: 119.341324\n",
            "Train Epoch: 7 [38400/60000 (64%)]\tLoss: 116.171059\n",
            "Train Epoch: 7 [51200/60000 (85%)]\tLoss: 112.013351\n",
            "====> Epoch: 7 Average loss: 116.5011\n",
            "====> Test set loss: 114.8562\n",
            "Train Epoch: 8 [0/60000 (0%)]\tLoss: 112.409630\n",
            "Train Epoch: 8 [12800/60000 (21%)]\tLoss: 113.434174\n",
            "Train Epoch: 8 [25600/60000 (43%)]\tLoss: 115.644653\n",
            "Train Epoch: 8 [38400/60000 (64%)]\tLoss: 114.121803\n",
            "Train Epoch: 8 [51200/60000 (85%)]\tLoss: 118.737106\n",
            "====> Epoch: 8 Average loss: 114.6532\n",
            "====> Test set loss: 113.3677\n",
            "Train Epoch: 9 [0/60000 (0%)]\tLoss: 110.245140\n",
            "Train Epoch: 9 [12800/60000 (21%)]\tLoss: 114.773590\n",
            "Train Epoch: 9 [25600/60000 (43%)]\tLoss: 110.692337\n",
            "Train Epoch: 9 [38400/60000 (64%)]\tLoss: 109.878677\n",
            "Train Epoch: 9 [51200/60000 (85%)]\tLoss: 106.563393\n",
            "====> Epoch: 9 Average loss: 113.2545\n",
            "====> Test set loss: 112.4167\n",
            "Train Epoch: 10 [0/60000 (0%)]\tLoss: 109.567230\n",
            "Train Epoch: 10 [12800/60000 (21%)]\tLoss: 116.099014\n",
            "Train Epoch: 10 [25600/60000 (43%)]\tLoss: 111.424225\n",
            "Train Epoch: 10 [38400/60000 (64%)]\tLoss: 109.004990\n",
            "Train Epoch: 10 [51200/60000 (85%)]\tLoss: 109.865105\n",
            "====> Epoch: 10 Average loss: 112.0825\n",
            "====> Test set loss: 111.0965\n",
            "Train Epoch: 11 [0/60000 (0%)]\tLoss: 109.696877\n",
            "Train Epoch: 11 [12800/60000 (21%)]\tLoss: 108.370522\n",
            "Train Epoch: 11 [25600/60000 (43%)]\tLoss: 111.137688\n",
            "Train Epoch: 11 [38400/60000 (64%)]\tLoss: 115.078209\n",
            "Train Epoch: 11 [51200/60000 (85%)]\tLoss: 110.032455\n",
            "====> Epoch: 11 Average loss: 111.1082\n",
            "====> Test set loss: 110.1241\n",
            "Train Epoch: 12 [0/60000 (0%)]\tLoss: 111.595497\n",
            "Train Epoch: 12 [12800/60000 (21%)]\tLoss: 115.146362\n",
            "Train Epoch: 12 [25600/60000 (43%)]\tLoss: 109.085762\n",
            "Train Epoch: 12 [38400/60000 (64%)]\tLoss: 118.925552\n",
            "Train Epoch: 12 [51200/60000 (85%)]\tLoss: 108.336578\n",
            "====> Epoch: 12 Average loss: 110.1958\n",
            "====> Test set loss: 109.9965\n",
            "Train Epoch: 13 [0/60000 (0%)]\tLoss: 107.978325\n",
            "Train Epoch: 13 [12800/60000 (21%)]\tLoss: 106.856461\n",
            "Train Epoch: 13 [25600/60000 (43%)]\tLoss: 112.491211\n",
            "Train Epoch: 13 [38400/60000 (64%)]\tLoss: 110.352211\n",
            "Train Epoch: 13 [51200/60000 (85%)]\tLoss: 107.473419\n",
            "====> Epoch: 13 Average loss: 109.4710\n",
            "====> Test set loss: 108.9833\n",
            "Train Epoch: 14 [0/60000 (0%)]\tLoss: 109.140755\n",
            "Train Epoch: 14 [12800/60000 (21%)]\tLoss: 106.925179\n",
            "Train Epoch: 14 [25600/60000 (43%)]\tLoss: 109.490776\n",
            "Train Epoch: 14 [38400/60000 (64%)]\tLoss: 107.468132\n",
            "Train Epoch: 14 [51200/60000 (85%)]\tLoss: 107.688004\n",
            "====> Epoch: 14 Average loss: 108.8048\n",
            "====> Test set loss: 108.4675\n",
            "Train Epoch: 15 [0/60000 (0%)]\tLoss: 107.814049\n",
            "Train Epoch: 15 [12800/60000 (21%)]\tLoss: 108.393402\n",
            "Train Epoch: 15 [25600/60000 (43%)]\tLoss: 102.523361\n",
            "Train Epoch: 15 [38400/60000 (64%)]\tLoss: 111.657074\n",
            "Train Epoch: 15 [51200/60000 (85%)]\tLoss: 103.307663\n",
            "====> Epoch: 15 Average loss: 108.2319\n",
            "====> Test set loss: 107.8503\n",
            "Train Epoch: 16 [0/60000 (0%)]\tLoss: 106.650101\n",
            "Train Epoch: 16 [12800/60000 (21%)]\tLoss: 112.827919\n",
            "Train Epoch: 16 [25600/60000 (43%)]\tLoss: 111.178589\n",
            "Train Epoch: 16 [38400/60000 (64%)]\tLoss: 108.239861\n",
            "Train Epoch: 16 [51200/60000 (85%)]\tLoss: 108.029266\n",
            "====> Epoch: 16 Average loss: 107.7393\n",
            "====> Test set loss: 107.3608\n",
            "Train Epoch: 17 [0/60000 (0%)]\tLoss: 106.892357\n",
            "Train Epoch: 17 [12800/60000 (21%)]\tLoss: 108.476440\n",
            "Train Epoch: 17 [25600/60000 (43%)]\tLoss: 106.224991\n",
            "Train Epoch: 17 [38400/60000 (64%)]\tLoss: 102.090485\n",
            "Train Epoch: 17 [51200/60000 (85%)]\tLoss: 103.229507\n",
            "====> Epoch: 17 Average loss: 107.1574\n",
            "====> Test set loss: 107.0433\n",
            "Train Epoch: 18 [0/60000 (0%)]\tLoss: 108.036362\n",
            "Train Epoch: 18 [12800/60000 (21%)]\tLoss: 105.666061\n",
            "Train Epoch: 18 [25600/60000 (43%)]\tLoss: 102.399132\n",
            "Train Epoch: 18 [38400/60000 (64%)]\tLoss: 104.994392\n",
            "Train Epoch: 18 [51200/60000 (85%)]\tLoss: 103.133919\n",
            "====> Epoch: 18 Average loss: 106.7556\n",
            "====> Test set loss: 107.0790\n",
            "Train Epoch: 19 [0/60000 (0%)]\tLoss: 101.159691\n",
            "Train Epoch: 19 [12800/60000 (21%)]\tLoss: 109.055893\n",
            "Train Epoch: 19 [25600/60000 (43%)]\tLoss: 105.969742\n",
            "Train Epoch: 19 [38400/60000 (64%)]\tLoss: 107.965950\n",
            "Train Epoch: 19 [51200/60000 (85%)]\tLoss: 107.159637\n",
            "====> Epoch: 19 Average loss: 106.3893\n",
            "====> Test set loss: 106.3674\n",
            "Train Epoch: 20 [0/60000 (0%)]\tLoss: 103.968124\n",
            "Train Epoch: 20 [12800/60000 (21%)]\tLoss: 104.334839\n",
            "Train Epoch: 20 [25600/60000 (43%)]\tLoss: 110.103806\n",
            "Train Epoch: 20 [38400/60000 (64%)]\tLoss: 101.469254\n",
            "Train Epoch: 20 [51200/60000 (85%)]\tLoss: 108.799049\n",
            "====> Epoch: 20 Average loss: 105.9659\n",
            "====> Test set loss: 105.8914\n",
            "Train Epoch: 21 [0/60000 (0%)]\tLoss: 108.184006\n",
            "Train Epoch: 21 [12800/60000 (21%)]\tLoss: 103.204582\n",
            "Train Epoch: 21 [25600/60000 (43%)]\tLoss: 107.976601\n",
            "Train Epoch: 21 [38400/60000 (64%)]\tLoss: 104.073456\n",
            "Train Epoch: 21 [51200/60000 (85%)]\tLoss: 104.002472\n",
            "====> Epoch: 21 Average loss: 105.6033\n",
            "====> Test set loss: 105.7517\n",
            "Train Epoch: 22 [0/60000 (0%)]\tLoss: 108.674149\n",
            "Train Epoch: 22 [12800/60000 (21%)]\tLoss: 107.945045\n",
            "Train Epoch: 22 [25600/60000 (43%)]\tLoss: 106.541306\n",
            "Train Epoch: 22 [38400/60000 (64%)]\tLoss: 104.166046\n",
            "Train Epoch: 22 [51200/60000 (85%)]\tLoss: 107.555115\n",
            "====> Epoch: 22 Average loss: 105.2739\n",
            "====> Test set loss: 105.4508\n",
            "Train Epoch: 23 [0/60000 (0%)]\tLoss: 102.465721\n",
            "Train Epoch: 23 [12800/60000 (21%)]\tLoss: 104.810211\n",
            "Train Epoch: 23 [25600/60000 (43%)]\tLoss: 102.420792\n",
            "Train Epoch: 23 [38400/60000 (64%)]\tLoss: 111.917435\n",
            "Train Epoch: 23 [51200/60000 (85%)]\tLoss: 107.873970\n",
            "====> Epoch: 23 Average loss: 104.9627\n",
            "====> Test set loss: 105.2417\n",
            "Train Epoch: 24 [0/60000 (0%)]\tLoss: 103.350380\n",
            "Train Epoch: 24 [12800/60000 (21%)]\tLoss: 104.030289\n",
            "Train Epoch: 24 [25600/60000 (43%)]\tLoss: 105.578552\n",
            "Train Epoch: 24 [38400/60000 (64%)]\tLoss: 101.171738\n",
            "Train Epoch: 24 [51200/60000 (85%)]\tLoss: 100.457336\n",
            "====> Epoch: 24 Average loss: 104.7126\n",
            "====> Test set loss: 105.1186\n",
            "Train Epoch: 25 [0/60000 (0%)]\tLoss: 101.108322\n",
            "Train Epoch: 25 [12800/60000 (21%)]\tLoss: 104.645294\n",
            "Train Epoch: 25 [25600/60000 (43%)]\tLoss: 111.155251\n",
            "Train Epoch: 25 [38400/60000 (64%)]\tLoss: 102.256973\n",
            "Train Epoch: 25 [51200/60000 (85%)]\tLoss: 102.673447\n",
            "====> Epoch: 25 Average loss: 104.4468\n",
            "====> Test set loss: 104.7079\n",
            "Train Epoch: 26 [0/60000 (0%)]\tLoss: 102.767075\n",
            "Train Epoch: 26 [12800/60000 (21%)]\tLoss: 103.695915\n",
            "Train Epoch: 26 [25600/60000 (43%)]\tLoss: 105.867821\n",
            "Train Epoch: 26 [38400/60000 (64%)]\tLoss: 103.561325\n",
            "Train Epoch: 26 [51200/60000 (85%)]\tLoss: 105.275192\n",
            "====> Epoch: 26 Average loss: 104.1956\n",
            "====> Test set loss: 104.5726\n",
            "Train Epoch: 27 [0/60000 (0%)]\tLoss: 100.827759\n",
            "Train Epoch: 27 [12800/60000 (21%)]\tLoss: 105.378677\n",
            "Train Epoch: 27 [25600/60000 (43%)]\tLoss: 105.735451\n",
            "Train Epoch: 27 [38400/60000 (64%)]\tLoss: 102.239990\n",
            "Train Epoch: 27 [51200/60000 (85%)]\tLoss: 109.071754\n",
            "====> Epoch: 27 Average loss: 103.9290\n",
            "====> Test set loss: 104.3902\n",
            "Train Epoch: 28 [0/60000 (0%)]\tLoss: 100.555328\n",
            "Train Epoch: 28 [12800/60000 (21%)]\tLoss: 101.975586\n",
            "Train Epoch: 28 [25600/60000 (43%)]\tLoss: 99.261314\n",
            "Train Epoch: 28 [38400/60000 (64%)]\tLoss: 104.031914\n",
            "Train Epoch: 28 [51200/60000 (85%)]\tLoss: 106.459541\n",
            "====> Epoch: 28 Average loss: 103.6314\n",
            "====> Test set loss: 104.0725\n",
            "Train Epoch: 29 [0/60000 (0%)]\tLoss: 97.770447\n",
            "Train Epoch: 29 [12800/60000 (21%)]\tLoss: 106.134392\n",
            "Train Epoch: 29 [25600/60000 (43%)]\tLoss: 101.720726\n",
            "Train Epoch: 29 [38400/60000 (64%)]\tLoss: 105.797081\n",
            "Train Epoch: 29 [51200/60000 (85%)]\tLoss: 105.994827\n",
            "====> Epoch: 29 Average loss: 103.4818\n",
            "====> Test set loss: 103.8395\n",
            "Train Epoch: 30 [0/60000 (0%)]\tLoss: 102.383362\n",
            "Train Epoch: 30 [12800/60000 (21%)]\tLoss: 104.402031\n",
            "Train Epoch: 30 [25600/60000 (43%)]\tLoss: 101.661591\n",
            "Train Epoch: 30 [38400/60000 (64%)]\tLoss: 106.390656\n",
            "Train Epoch: 30 [51200/60000 (85%)]\tLoss: 106.129829\n",
            "====> Epoch: 30 Average loss: 103.2417\n",
            "====> Test set loss: 103.5855\n",
            "Train Epoch: 31 [0/60000 (0%)]\tLoss: 103.381966\n",
            "Train Epoch: 31 [12800/60000 (21%)]\tLoss: 102.151299\n",
            "Train Epoch: 31 [25600/60000 (43%)]\tLoss: 102.928810\n",
            "Train Epoch: 31 [38400/60000 (64%)]\tLoss: 98.788177\n",
            "Train Epoch: 31 [51200/60000 (85%)]\tLoss: 107.060478\n",
            "====> Epoch: 31 Average loss: 102.9187\n",
            "====> Test set loss: 103.5809\n",
            "Train Epoch: 32 [0/60000 (0%)]\tLoss: 107.523712\n",
            "Train Epoch: 32 [12800/60000 (21%)]\tLoss: 104.284630\n",
            "Train Epoch: 32 [25600/60000 (43%)]\tLoss: 102.459755\n",
            "Train Epoch: 32 [38400/60000 (64%)]\tLoss: 103.068916\n",
            "Train Epoch: 32 [51200/60000 (85%)]\tLoss: 109.029518\n",
            "====> Epoch: 32 Average loss: 102.7866\n",
            "====> Test set loss: 103.2903\n",
            "Train Epoch: 33 [0/60000 (0%)]\tLoss: 100.603287\n",
            "Train Epoch: 33 [12800/60000 (21%)]\tLoss: 102.121674\n",
            "Train Epoch: 33 [25600/60000 (43%)]\tLoss: 97.294662\n",
            "Train Epoch: 33 [38400/60000 (64%)]\tLoss: 106.238327\n",
            "Train Epoch: 33 [51200/60000 (85%)]\tLoss: 105.177780\n",
            "====> Epoch: 33 Average loss: 102.5761\n",
            "====> Test set loss: 103.5706\n",
            "Train Epoch: 34 [0/60000 (0%)]\tLoss: 102.688614\n",
            "Train Epoch: 34 [12800/60000 (21%)]\tLoss: 104.483360\n",
            "Train Epoch: 34 [25600/60000 (43%)]\tLoss: 103.982307\n",
            "Train Epoch: 34 [38400/60000 (64%)]\tLoss: 97.747932\n",
            "Train Epoch: 34 [51200/60000 (85%)]\tLoss: 99.783806\n",
            "====> Epoch: 34 Average loss: 102.3374\n",
            "====> Test set loss: 102.9539\n",
            "Train Epoch: 35 [0/60000 (0%)]\tLoss: 101.696617\n",
            "Train Epoch: 35 [12800/60000 (21%)]\tLoss: 99.168938\n",
            "Train Epoch: 35 [25600/60000 (43%)]\tLoss: 102.471428\n",
            "Train Epoch: 35 [38400/60000 (64%)]\tLoss: 103.645149\n",
            "Train Epoch: 35 [51200/60000 (85%)]\tLoss: 98.638092\n",
            "====> Epoch: 35 Average loss: 102.1495\n",
            "====> Test set loss: 103.0290\n",
            "Train Epoch: 36 [0/60000 (0%)]\tLoss: 101.144043\n",
            "Train Epoch: 36 [12800/60000 (21%)]\tLoss: 100.836349\n",
            "Train Epoch: 36 [25600/60000 (43%)]\tLoss: 102.223503\n",
            "Train Epoch: 36 [38400/60000 (64%)]\tLoss: 102.049774\n",
            "Train Epoch: 36 [51200/60000 (85%)]\tLoss: 100.029778\n",
            "====> Epoch: 36 Average loss: 101.9534\n",
            "====> Test set loss: 102.5960\n",
            "Train Epoch: 37 [0/60000 (0%)]\tLoss: 100.656631\n",
            "Train Epoch: 37 [12800/60000 (21%)]\tLoss: 102.139473\n",
            "Train Epoch: 37 [25600/60000 (43%)]\tLoss: 96.175697\n",
            "Train Epoch: 37 [38400/60000 (64%)]\tLoss: 102.154472\n",
            "Train Epoch: 37 [51200/60000 (85%)]\tLoss: 101.109207\n",
            "====> Epoch: 37 Average loss: 101.7833\n",
            "====> Test set loss: 102.6500\n",
            "Train Epoch: 38 [0/60000 (0%)]\tLoss: 105.724220\n",
            "Train Epoch: 38 [12800/60000 (21%)]\tLoss: 98.358833\n",
            "Train Epoch: 38 [25600/60000 (43%)]\tLoss: 102.579681\n",
            "Train Epoch: 38 [38400/60000 (64%)]\tLoss: 95.237396\n",
            "Train Epoch: 38 [51200/60000 (85%)]\tLoss: 101.702286\n",
            "====> Epoch: 38 Average loss: 101.6674\n",
            "====> Test set loss: 102.4365\n",
            "Train Epoch: 39 [0/60000 (0%)]\tLoss: 101.964180\n",
            "Train Epoch: 39 [12800/60000 (21%)]\tLoss: 99.510399\n",
            "Train Epoch: 39 [25600/60000 (43%)]\tLoss: 101.633850\n",
            "Train Epoch: 39 [38400/60000 (64%)]\tLoss: 101.161194\n",
            "Train Epoch: 39 [51200/60000 (85%)]\tLoss: 100.296959\n",
            "====> Epoch: 39 Average loss: 101.4476\n",
            "====> Test set loss: 102.1722\n",
            "Train Epoch: 40 [0/60000 (0%)]\tLoss: 93.093468\n",
            "Train Epoch: 40 [12800/60000 (21%)]\tLoss: 98.081512\n",
            "Train Epoch: 40 [25600/60000 (43%)]\tLoss: 106.314041\n",
            "Train Epoch: 40 [38400/60000 (64%)]\tLoss: 103.190781\n",
            "Train Epoch: 40 [51200/60000 (85%)]\tLoss: 103.749725\n",
            "====> Epoch: 40 Average loss: 101.2508\n",
            "====> Test set loss: 102.1182\n",
            "Train Epoch: 41 [0/60000 (0%)]\tLoss: 101.331276\n",
            "Train Epoch: 41 [12800/60000 (21%)]\tLoss: 99.668129\n",
            "Train Epoch: 41 [25600/60000 (43%)]\tLoss: 103.347740\n",
            "Train Epoch: 41 [38400/60000 (64%)]\tLoss: 100.056160\n",
            "Train Epoch: 41 [51200/60000 (85%)]\tLoss: 102.077644\n",
            "====> Epoch: 41 Average loss: 101.1145\n",
            "====> Test set loss: 102.1105\n",
            "Train Epoch: 42 [0/60000 (0%)]\tLoss: 102.384567\n",
            "Train Epoch: 42 [12800/60000 (21%)]\tLoss: 97.395683\n",
            "Train Epoch: 42 [25600/60000 (43%)]\tLoss: 103.328888\n",
            "Train Epoch: 42 [38400/60000 (64%)]\tLoss: 104.019730\n",
            "Train Epoch: 42 [51200/60000 (85%)]\tLoss: 101.449638\n",
            "====> Epoch: 42 Average loss: 100.8880\n",
            "====> Test set loss: 101.5897\n",
            "Train Epoch: 43 [0/60000 (0%)]\tLoss: 99.814812\n",
            "Train Epoch: 43 [12800/60000 (21%)]\tLoss: 102.192726\n",
            "Train Epoch: 43 [25600/60000 (43%)]\tLoss: 101.781342\n",
            "Train Epoch: 43 [38400/60000 (64%)]\tLoss: 99.521202\n",
            "Train Epoch: 43 [51200/60000 (85%)]\tLoss: 106.016403\n",
            "====> Epoch: 43 Average loss: 100.7606\n",
            "====> Test set loss: 101.6487\n",
            "Train Epoch: 44 [0/60000 (0%)]\tLoss: 103.102524\n",
            "Train Epoch: 44 [12800/60000 (21%)]\tLoss: 96.431412\n",
            "Train Epoch: 44 [25600/60000 (43%)]\tLoss: 96.549316\n",
            "Train Epoch: 44 [38400/60000 (64%)]\tLoss: 103.660881\n",
            "Train Epoch: 44 [51200/60000 (85%)]\tLoss: 102.908089\n",
            "====> Epoch: 44 Average loss: 100.5827\n",
            "====> Test set loss: 101.7938\n",
            "Train Epoch: 45 [0/60000 (0%)]\tLoss: 99.422874\n",
            "Train Epoch: 45 [12800/60000 (21%)]\tLoss: 99.873039\n",
            "Train Epoch: 45 [25600/60000 (43%)]\tLoss: 98.942039\n",
            "Train Epoch: 45 [38400/60000 (64%)]\tLoss: 99.867172\n",
            "Train Epoch: 45 [51200/60000 (85%)]\tLoss: 99.831955\n",
            "====> Epoch: 45 Average loss: 100.3786\n",
            "====> Test set loss: 101.7346\n",
            "Train Epoch: 46 [0/60000 (0%)]\tLoss: 100.896446\n",
            "Train Epoch: 46 [12800/60000 (21%)]\tLoss: 102.475220\n",
            "Train Epoch: 46 [25600/60000 (43%)]\tLoss: 98.623627\n",
            "Train Epoch: 46 [38400/60000 (64%)]\tLoss: 98.252243\n",
            "Train Epoch: 46 [51200/60000 (85%)]\tLoss: 104.002708\n",
            "====> Epoch: 46 Average loss: 100.2218\n",
            "====> Test set loss: 101.2286\n",
            "Train Epoch: 47 [0/60000 (0%)]\tLoss: 99.000244\n",
            "Train Epoch: 47 [12800/60000 (21%)]\tLoss: 100.428238\n",
            "Train Epoch: 47 [25600/60000 (43%)]\tLoss: 101.408180\n",
            "Train Epoch: 47 [38400/60000 (64%)]\tLoss: 101.152061\n",
            "Train Epoch: 47 [51200/60000 (85%)]\tLoss: 98.974968\n",
            "====> Epoch: 47 Average loss: 100.1171\n",
            "====> Test set loss: 101.2275\n",
            "Train Epoch: 48 [0/60000 (0%)]\tLoss: 100.551529\n",
            "Train Epoch: 48 [12800/60000 (21%)]\tLoss: 97.700302\n",
            "Train Epoch: 48 [25600/60000 (43%)]\tLoss: 105.148422\n",
            "Train Epoch: 48 [38400/60000 (64%)]\tLoss: 100.053947\n",
            "Train Epoch: 48 [51200/60000 (85%)]\tLoss: 99.010803\n",
            "====> Epoch: 48 Average loss: 99.9551\n",
            "====> Test set loss: 101.0836\n",
            "Train Epoch: 49 [0/60000 (0%)]\tLoss: 103.578224\n",
            "Train Epoch: 49 [12800/60000 (21%)]\tLoss: 100.322952\n",
            "Train Epoch: 49 [25600/60000 (43%)]\tLoss: 96.332481\n",
            "Train Epoch: 49 [38400/60000 (64%)]\tLoss: 100.435890\n",
            "Train Epoch: 49 [51200/60000 (85%)]\tLoss: 101.403511\n",
            "====> Epoch: 49 Average loss: 99.8238\n",
            "====> Test set loss: 100.7249\n",
            "Train Epoch: 50 [0/60000 (0%)]\tLoss: 103.125900\n",
            "Train Epoch: 50 [12800/60000 (21%)]\tLoss: 98.542488\n",
            "Train Epoch: 50 [25600/60000 (43%)]\tLoss: 99.773834\n",
            "Train Epoch: 50 [38400/60000 (64%)]\tLoss: 99.329750\n",
            "Train Epoch: 50 [51200/60000 (85%)]\tLoss: 100.310661\n",
            "====> Epoch: 50 Average loss: 99.6858\n",
            "====> Test set loss: 100.8460\n"
          ],
          "name": "stdout"
        }
      ]
    },
    {
      "metadata": {
        "id": "-3kLXZDKewuq",
        "colab_type": "code",
        "colab": {}
      },
      "cell_type": "code",
      "source": [
        "batch = next(iter(train_loader))"
      ],
      "execution_count": 0,
      "outputs": []
    },
    {
      "metadata": {
        "id": "YHsXQhB3n7fN",
        "colab_type": "code",
        "colab": {}
      },
      "cell_type": "code",
      "source": [
        "x = batch[0][0]"
      ],
      "execution_count": 0,
      "outputs": []
    },
    {
      "metadata": {
        "id": "Gjiw0BkytOHV",
        "colab_type": "code",
        "colab": {
          "base_uri": "https://localhost:8080/",
          "height": 34
        },
        "outputId": "09658484-b649-4157-ea1f-26ccd1e65d64"
      },
      "cell_type": "code",
      "source": [
        "# check if the codes are the same\n",
        "a = model.get_codes(x.cuda(), 0.1)\n",
        "b = model.get_codes(x.cuda(), 0.1)\n",
        "\n",
        "torch.sum(a != b).data.cpu()"
      ],
      "execution_count": 180,
      "outputs": [
        {
          "output_type": "execute_result",
          "data": {
            "text/plain": [
              "tensor(3)"
            ]
          },
          "metadata": {
            "tags": []
          },
          "execution_count": 180
        }
      ]
    }
  ]
}