{
 "cells": [
  {
   "cell_type": "markdown",
   "metadata": {},
   "source": [
    "# Gumbel Distribution"
   ]
  },
  {
   "cell_type": "code",
   "execution_count": 1,
   "metadata": {},
   "outputs": [],
   "source": [
    "import numpy as np\n",
    "import matplotlib.pyplot as plt"
   ]
  },
  {
   "cell_type": "code",
   "execution_count": 2,
   "metadata": {},
   "outputs": [],
   "source": [
    "N = 10**6\n",
    "bins = 10"
   ]
  },
  {
   "cell_type": "code",
   "execution_count": 3,
   "metadata": {},
   "outputs": [],
   "source": [
    "u = np.random.random((N))"
   ]
  },
  {
   "cell_type": "code",
   "execution_count": 4,
   "metadata": {},
   "outputs": [
    {
     "data": {
      "text/plain": [
       "Text(0.5,1,'Uniform distribution')"
      ]
     },
     "execution_count": 4,
     "metadata": {},
     "output_type": "execute_result"
    },
    {
     "data": {
      "image/png": "[encoded data removed]",
      "text/plain": [
       "<Figure size 432x288 with 1 Axes>"
      ]
     },
     "metadata": {
      "needs_background": "light"
     },
     "output_type": "display_data"
    }
   ],
   "source": [
    "plt.hist(u, bins=bins);\n",
    "plt.title(\"Uniform distribution\")"
   ]
  },
  {
   "cell_type": "code",
   "execution_count": 5,
   "metadata": {},
   "outputs": [],
   "source": [
    "g = -np.log(-np.log(u))"
   ]
  },
  {
   "cell_type": "code",
   "execution_count": 6,
   "metadata": {},
   "outputs": [
    {
     "data": {
      "text/plain": [
       "Text(0.5,1,'Gumbel distribution')"
      ]
     },
     "execution_count": 6,
     "metadata": {},
     "output_type": "execute_result"
    },
    {
     "data": {
      "image/png": "[encoded data removed]",
      "text/plain": [
       "<Figure size 432x288 with 1 Axes>"
      ]
     },
     "metadata": {
      "needs_background": "light"
     },
     "output_type": "display_data"
    }
   ],
   "source": [
    "plt.hist(g, bins=bins);\n",
    "plt.title(\"Gumbel distribution\")"
   ]
  },
  {
   "cell_type": "markdown",
   "metadata": {},
   "source": [
    "# Discrete Sampling\n",
    "\n",
    "Goal: Sampling from a discrete distribution parametrized by $K$ unnormalized log-probabilities $\\alpha_k$:\n",
    "\n",
    "$$\n",
    "    \\pi_k =\\frac{1}{z} \\exp(\\alpha_k),  \\quad \\textrm{where} \\, z=\\sum_j^K \\exp(x_j)\n",
    "$$"
   ]
  },
  {
   "cell_type": "markdown",
   "metadata": {},
   "source": [
    "# The Gumbel Distribution tidck\n",
    "\n",
    "Let $X$ be a discrete random variable with $P(X=k)\\propto \\alpha_k$ random variable and let $\\{G_k\\}_{k\\leq K}$\n",
    "be an i.i.d sequence of standard Gumbel random variables. \n",
    "\n",
    "Then:\n",
    "$$\n",
    "    X = \\arg\\max_k(\\log \\alpha_k + G_k)\n",
    "$$\n",
    "\n",
    "The algorithm\n",
    "* draw Gumbel noise by transforming uniform samples\n",
    "* add the noise to the $\\log \\alpha_k$\n",
    "* take value k that produces the maximum"
   ]
  },
  {
   "cell_type": "code",
   "execution_count": 7,
   "metadata": {},
   "outputs": [],
   "source": [
    "def gumbel(size, eps=1e-10):\n",
    "    \"\"\" Sample from Gumbel(0, 1)\"\"\"\n",
    "    u =  np.random.random(size)\n",
    "    g = -np.log(-np.log(u + eps) + eps)\n",
    "    return g\n",
    "    \n",
    "def gumbel_max_sample(x, is_prob=False):\n",
    "    \"\"\" Draw a sample from P(X=k) prop x_k \"\"\"\n",
    "    if is_prob:\n",
    "        x = np.log(x)\n",
    "        \n",
    "    g = gumbel(size=x.shape)\n",
    "    return (g + x).argmax(axis=0)"
   ]
  },
  {
   "cell_type": "markdown",
   "metadata": {},
   "source": [
    "# Relaxing the discretness\n",
    "\n",
    "The main idea\n",
    "\n",
    "* Any discrete random variable can be always expressed as one hot-vector\n",
    "* the convex hull of the set of one-hot vector is the probability simplex:\n",
    "$$\n",
    "\\Delta^{K-1} = \\big\\{ x \\in R^K_+, \\, \\sum_{k=1}^K x_k = 1 \\big\\}\n",
    "$$\n",
    "\n",
    "Therefore, a natural way to extend (or ‘relax’) a discrete random variables is by allowing it to take values in the *probability simplex*. We can can consider a soft-max map, to extend the values of a discrete random variable\n",
    "\n",
    "$$\n",
    "    f_\\tau (x)_k = \\frac{\\exp(x_k / \\tau)}{\\sum_{k=1}^K\\exp(x_k / \\tau)}\n",
    "$$"
   ]
  },
  {
   "cell_type": "code",
   "execution_count": 8,
   "metadata": {},
   "outputs": [],
   "source": [
    "def softmax(X, temperature = 1.0, axis = None):\n",
    "    \"\"\"\n",
    "    Compute the softmax of each element along an axis of X.\n",
    "\n",
    "    Parameters\n",
    "    ----------\n",
    "    X: ND-Array. Probably should be floats. \n",
    "    temperature (optional): float parameter, used as a multiplier\n",
    "        prior to exponentiation. Default = 1.0\n",
    "    axis (optional): axis to compute values along. Default is the \n",
    "        first non-singleton axis.\n",
    "\n",
    "    Returns an array the same size as X. The result will sum to 1\n",
    "    along the specified axis.\n",
    "    \"\"\"\n",
    "    y = np.atleast_2d(X)\n",
    "\n",
    "    if axis is None:\n",
    "        axis = next(j[0] for j in enumerate(y.shape) if j[1] > 1)\n",
    "\n",
    "    y = y / float(temperature)\n",
    "    y = y - np.expand_dims(np.max(y, axis = axis), axis)\n",
    "    y = np.exp(y)\n",
    "\n",
    "    # take the sum along the specified axis\n",
    "    p = y / np.expand_dims(np.sum(y, axis = axis), axis)\n",
    "\n",
    "    if len(X.shape) == 1: \n",
    "        p = p.flatten()\n",
    "\n",
    "    return p"
   ]
  },
  {
   "cell_type": "code",
   "execution_count": 9,
   "metadata": {},
   "outputs": [],
   "source": [
    "def gumbel_softmax_sample(logits, temperature=1): \n",
    "    \"\"\" Draw a sample from the Gumbel-Softmax distribution\"\"\"\n",
    "    y = logits + gumbel(np.shape(logits))\n",
    "    return softmax(y, temperature=temperature)"
   ]
  },
  {
   "cell_type": "markdown",
   "metadata": {},
   "source": [
    "# An example sampling"
   ]
  },
  {
   "cell_type": "code",
   "execution_count": 10,
   "metadata": {},
   "outputs": [
    {
     "data": {
      "image/png": "[encoded data removed]",
      "text/plain": [
       "<Figure size 432x288 with 1 Axes>"
      ]
     },
     "metadata": {
      "needs_background": "light"
     },
     "output_type": "display_data"
    }
   ],
   "source": [
    "logits = [1, 4, 5, 1, 2]\n",
    "classes = range(1, len(logits) + 1)\n",
    "sample = gumbel_softmax_sample(logits, temperature=1)\n",
    "\n",
    "plt.title(\"Sample from Gumbel-Softmax distribution\")\n",
    "plt.bar(classes, sample);"
   ]
  }
 ],
 "metadata": {
  "kernelspec": {
   "display_name": "Python 3",
   "language": "python",
   "name": "python3"
  },
  "language_info": {
   "codemirror_mode": {
    "name": "ipython",
    "version": 3
   },
   "file_extension": ".py",
   "mimetype": "text/x-python",
   "name": "python",
   "nbconvert_exporter": "python",
   "pygments_lexer": "ipython3",
   "version": "3.7.0"
  }
 },
 "nbformat": 4,
 "nbformat_minor": 2
}
